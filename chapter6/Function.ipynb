{
 "cells": [
  {
   "cell_type": "code",
   "execution_count": 3,
   "id": "50eed4fb",
   "metadata": {},
   "outputs": [
    {
     "name": "stdout",
     "output_type": "stream",
     "text": [
      "1 X 10: 10\n",
      "1 X 9: 9\n",
      "1 X 8: 8\n",
      "1 X 7: 7\n",
      "1 X 6: 6\n",
      "1 X 5: 5\n",
      "1 X 4: 4\n",
      "1 X 3: 3\n",
      "1 X 2: 2\n",
      "1 X 1: 1\n",
      "2 X 10: 20\n",
      "2 X 9: 18\n",
      "2 X 8: 16\n",
      "2 X 7: 14\n",
      "2 X 6: 12\n",
      "2 X 5: 10\n",
      "2 X 4: 8\n",
      "2 X 3: 6\n",
      "2 X 2: 4\n",
      "2 X 1: 2\n"
     ]
    }
   ],
   "source": [
    "def table():\n",
    "    num = int(input(\"Enter a num: \"))\n",
    "\n",
    "    for i in range(1,11):\n",
    "      print(f\"{num} X {11-i}: {num*(11-i)}\")\n",
    "\n",
    "\n",
    "table()\n",
    "\n",
    "table()"
   ]
  },
  {
   "cell_type": "code",
   "execution_count": 7,
   "id": "cdadf04f",
   "metadata": {},
   "outputs": [
    {
     "name": "stdout",
     "output_type": "stream",
     "text": [
      "Good day! Ashish\n",
      "Nice to meet you\n",
      "Bye\n"
     ]
    }
   ],
   "source": [
    "def greet(name, end, bye):\n",
    "    print(\"Good day! \" + name)\n",
    "    print(end)\n",
    "    print(bye)\n",
    "\n",
    "greet(\"Ashish\", \"Nice to meet you\", \"Bye\")"
   ]
  },
  {
   "cell_type": "code",
   "execution_count": 8,
   "id": "f44098fc",
   "metadata": {},
   "outputs": [
    {
     "name": "stdout",
     "output_type": "stream",
     "text": [
      "Goodbye Ashish\n",
      "Thanks\n",
      "Goodbye Nilesh\n",
      "Ram Ram Sa\n"
     ]
    }
   ],
   "source": [
    "# Default Argument\n",
    "\n",
    "def greet(name, end=\"Thanks\"):\n",
    "    print(f\"Goodbye {name}\")\n",
    "    print(end)\n",
    "\n",
    "greet(\"Ashish\")\n",
    "greet(\"Nilesh\", \"Ram Ram Sa\")"
   ]
  },
  {
   "cell_type": "code",
   "execution_count": 5,
   "id": "c610f0d4",
   "metadata": {},
   "outputs": [
    {
     "name": "stdout",
     "output_type": "stream",
     "text": [
      "you entered two same numbers\n"
     ]
    }
   ],
   "source": [
    "def Greatest_Num(a,b,c):\n",
    "    if(a>b and a>c):\n",
    "        print(f\"{a} is the greatest num\")\n",
    "    elif(b>c and b>a):\n",
    "        print(f\"{b} is the greatest num\")\n",
    "    elif(c>a and c>b):\n",
    "        print(f\"{c} is the greatest num\")\n",
    "    else:\n",
    "        print(\"you entered two same numbers\")\n",
    "\n",
    "num1= int(input(\"Enter a num: \"))\n",
    "num2= int(input(\"Enter a num: \")) \n",
    "num3= int(input(\"Enter a num: \"))\n",
    "\n",
    "Greatest_Num(num1,num2,num3)"
   ]
  },
  {
   "cell_type": "code",
   "execution_count": 11,
   "id": "e18ce0d6",
   "metadata": {},
   "outputs": [
    {
     "name": "stdout",
     "output_type": "stream",
     "text": [
      "temp will 116.67 degree celsius\n"
     ]
    }
   ],
   "source": [
    "# Write a function to convert temprature from celsius to fahrenheit to celsius \n",
    "\n",
    "def f_to_c(f):\n",
    "   return 5*(f-32)/9\n",
    "\n",
    "temp= int(input(\"Enter temp: \"))\n",
    "celi= f_to_c(temp)\n",
    "\n",
    "print(f\"temp will {round(celi,2)} degree celsius\")\n"
   ]
  },
  {
   "cell_type": "code",
   "execution_count": null,
   "id": "b4da9b02",
   "metadata": {},
   "outputs": [],
   "source": []
  },
  {
   "cell_type": "code",
   "execution_count": null,
   "id": "e2377642",
   "metadata": {},
   "outputs": [],
   "source": []
  }
 ],
 "metadata": {
  "kernelspec": {
   "display_name": "Python 3",
   "language": "python",
   "name": "python3"
  },
  "language_info": {
   "codemirror_mode": {
    "name": "ipython",
    "version": 3
   },
   "file_extension": ".py",
   "mimetype": "text/x-python",
   "name": "python",
   "nbconvert_exporter": "python",
   "pygments_lexer": "ipython3",
   "version": "3.12.5"
  }
 },
 "nbformat": 4,
 "nbformat_minor": 5
}
