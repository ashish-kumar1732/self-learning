{
 "cells": [
  {
   "cell_type": "code",
   "execution_count": 11,
   "id": "d5089d9f",
   "metadata": {},
   "outputs": [
    {
     "name": "stdout",
     "output_type": "stream",
     "text": [
      "Twinkle is not in the file\n"
     ]
    }
   ],
   "source": [
    "with open(\"poem.txt\") as file:\n",
    "    f= file.read()\n",
    "    if (\"Twinkle\" in f):\n",
    "        print(\"Twinkle is in the file\")\n",
    "    else:\n",
    "        print(\"Twinkle is not in the file\")"
   ]
  },
  {
   "cell_type": "code",
   "execution_count": 22,
   "id": "c733d0a6",
   "metadata": {},
   "outputs": [
    {
     "name": "stdout",
     "output_type": "stream",
     "text": [
      "You're playing a game: \n",
      "Your score: 3\n"
     ]
    },
    {
     "data": {
      "text/plain": [
       "3"
      ]
     },
     "execution_count": 22,
     "metadata": {},
     "output_type": "execute_result"
    }
   ],
   "source": [
    "import random\n",
    "def game():\n",
    "    print(\"You're playing a game: \")\n",
    "    score = random.randint(1,101)\n",
    "    \n",
    "    with open(\"hi_score.txt\") as f:\n",
    "        hi_score= f.read()\n",
    "\n",
    "        if(hi_score!=\"\"):\n",
    "            hi_score= int(hi_score)\n",
    "        else:\n",
    "            hi_score=0\n",
    "\n",
    "    print(f\"Your score: {score}\")\n",
    "\n",
    "    if(score>hi_score):\n",
    "        with open(\"hi_score.txt\", \"w\") as file:\n",
    "            file.write(str(score))\n",
    "    return score\n",
    "game()"
   ]
  },
  {
   "cell_type": "code",
   "execution_count": null,
   "id": "147351a4",
   "metadata": {},
   "outputs": [],
   "source": [
    "def table(n):\n",
    "      tab = \"\"\n",
    "      for i in range(1,11):\n",
    "       tab += f\"{n} X {i} = {n*i}\\n\" # as a string, line change\n",
    "\n",
    "      with open (f\"table/table{n}.txt\", \"w\") as file:\n",
    "           file.write(tab)\n",
    "     \n",
    "\n",
    "\n",
    "\n",
    "for i in range(1,21):\n",
    "      table(i)"
   ]
  },
  {
   "cell_type": "code",
   "execution_count": 30,
   "id": "90a5874e",
   "metadata": {},
   "outputs": [],
   "source": [
    "def Table(n):\n",
    "    tab = \"\"\n",
    "    for i in range(1,11):\n",
    "        tab+= f\"{n} X {i} = {n*i}\\n\"\n",
    "    with open(f\"table/table{n}.txt\",\"w\") as f:\n",
    "        f.write(tab)\n",
    "\n",
    "\n",
    "\n",
    "\n",
    "for i in range(21,41):\n",
    "    Table(i)"
   ]
  },
  {
   "cell_type": "code",
   "execution_count": null,
   "id": "290eded6",
   "metadata": {},
   "outputs": [],
   "source": [
    "with open(\"money.txt\",\"r\") as f:\n",
    "    content= f.read()\n",
    "    content_new= content.replace(\"money\",\"#####\")\n",
    "\n",
    "with open(\"money.txt\",\"w\") as file:\n",
    "    file.write(content_new)"
   ]
  },
  {
   "cell_type": "code",
   "execution_count": 55,
   "id": "62a4310e",
   "metadata": {},
   "outputs": [],
   "source": [
    "to_replace= [\"bc\", \"mc\", \"bkl\", \"fuck\"]\n",
    "with open(\"censored_words.txt\", \"r\") as file:\n",
    "    censored= file.read()\n",
    "for word in to_replace:\n",
    "    censored= censored.replace(word, \"#\" *len(word))\n",
    "\n",
    "with open(\"censored_words.txt\", \"w\") as f:\n",
    "    f.write(censored)\n"
   ]
  },
  {
   "cell_type": "code",
   "execution_count": 59,
   "id": "684019cd",
   "metadata": {},
   "outputs": [
    {
     "name": "stdout",
     "output_type": "stream",
     "text": [
      "Python is in the file\n"
     ]
    }
   ],
   "source": [
    "with open(\"log.txt\", \"r\") as f:\n",
    "    file = f.read()\n",
    "    if (\"Python\" in file):\n",
    "        print(\"Python is in the file\")\n",
    "    else:\n",
    "        print(\"Python was not in the file\")\n",
    "\n",
    "        with open(\"log.txt\",\"w\") as f:\n",
    "            f.write(\"Python\")\n",
    "        print(\"Python written successfully! in the file\")"
   ]
  },
  {
   "cell_type": "code",
   "execution_count": null,
   "id": "dfc0a63d",
   "metadata": {},
   "outputs": [],
   "source": []
  }
 ],
 "metadata": {
  "kernelspec": {
   "display_name": "Python 3",
   "language": "python",
   "name": "python3"
  },
  "language_info": {
   "codemirror_mode": {
    "name": "ipython",
    "version": 3
   },
   "file_extension": ".py",
   "mimetype": "text/x-python",
   "name": "python",
   "nbconvert_exporter": "python",
   "pygments_lexer": "ipython3",
   "version": "3.12.5"
  }
 },
 "nbformat": 4,
 "nbformat_minor": 5
}
